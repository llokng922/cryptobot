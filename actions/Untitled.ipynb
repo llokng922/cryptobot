{
 "cells": [
  {
   "cell_type": "code",
   "execution_count": 1,
   "metadata": {
    "ExecuteTime": {
     "end_time": "2020-02-12T06:51:41.234307Z",
     "start_time": "2020-02-12T06:51:40.736023Z"
    }
   },
   "outputs": [],
   "source": [
    "import pandas as pd"
   ]
  },
  {
   "cell_type": "code",
   "execution_count": 4,
   "metadata": {
    "ExecuteTime": {
     "end_time": "2020-02-12T06:52:21.452908Z",
     "start_time": "2020-02-12T06:52:21.442004Z"
    }
   },
   "outputs": [],
   "source": [
    "df = pd.read_csv('../cryptodata/btcusd.csv')"
   ]
  },
  {
   "cell_type": "code",
   "execution_count": 5,
   "metadata": {
    "ExecuteTime": {
     "end_time": "2020-02-12T06:52:25.285772Z",
     "start_time": "2020-02-12T06:52:25.264677Z"
    }
   },
   "outputs": [
    {
     "data": {
      "text/html": [
       "<div>\n",
       "<style scoped>\n",
       "    .dataframe tbody tr th:only-of-type {\n",
       "        vertical-align: middle;\n",
       "    }\n",
       "\n",
       "    .dataframe tbody tr th {\n",
       "        vertical-align: top;\n",
       "    }\n",
       "\n",
       "    .dataframe thead th {\n",
       "        text-align: right;\n",
       "    }\n",
       "</style>\n",
       "<table border=\"1\" class=\"dataframe\">\n",
       "  <thead>\n",
       "    <tr style=\"text-align: right;\">\n",
       "      <th></th>\n",
       "      <th>Unnamed: 0</th>\n",
       "      <th>Date</th>\n",
       "      <th>Open</th>\n",
       "      <th>High</th>\n",
       "      <th>Low</th>\n",
       "      <th>Close</th>\n",
       "    </tr>\n",
       "  </thead>\n",
       "  <tbody>\n",
       "    <tr>\n",
       "      <th>0</th>\n",
       "      <td>Tu</td>\n",
       "      <td>11/2/2020</td>\n",
       "      <td>9866.28</td>\n",
       "      <td>9892.60</td>\n",
       "      <td>9715.10</td>\n",
       "      <td>9736.08</td>\n",
       "    </tr>\n",
       "    <tr>\n",
       "      <th>1</th>\n",
       "      <td>Mo</td>\n",
       "      <td>10/2/2020</td>\n",
       "      <td>10097.14</td>\n",
       "      <td>10194.88</td>\n",
       "      <td>9749.77</td>\n",
       "      <td>9866.28</td>\n",
       "    </tr>\n",
       "    <tr>\n",
       "      <th>2</th>\n",
       "      <td>NaN</td>\n",
       "      <td>NaN</td>\n",
       "      <td>NaN</td>\n",
       "      <td>NaN</td>\n",
       "      <td>NaN</td>\n",
       "      <td>NaN</td>\n",
       "    </tr>\n",
       "    <tr>\n",
       "      <th>3</th>\n",
       "      <td>Fr</td>\n",
       "      <td>7/2/2020</td>\n",
       "      <td>9737.36</td>\n",
       "      <td>9868.16</td>\n",
       "      <td>9655.23</td>\n",
       "      <td>9744.46</td>\n",
       "    </tr>\n",
       "    <tr>\n",
       "      <th>4</th>\n",
       "      <td>Th</td>\n",
       "      <td>6/2/2020</td>\n",
       "      <td>9687.28</td>\n",
       "      <td>9854.47</td>\n",
       "      <td>9530.87</td>\n",
       "      <td>9737.36</td>\n",
       "    </tr>\n",
       "    <tr>\n",
       "      <th>...</th>\n",
       "      <td>...</td>\n",
       "      <td>...</td>\n",
       "      <td>...</td>\n",
       "      <td>...</td>\n",
       "      <td>...</td>\n",
       "      <td>...</td>\n",
       "    </tr>\n",
       "    <tr>\n",
       "      <th>1561</th>\n",
       "      <td>Mo</td>\n",
       "      <td>16/2/2015</td>\n",
       "      <td>244.18</td>\n",
       "      <td>244.98</td>\n",
       "      <td>227.38</td>\n",
       "      <td>237.01</td>\n",
       "    </tr>\n",
       "    <tr>\n",
       "      <th>1562</th>\n",
       "      <td>NaN</td>\n",
       "      <td>NaN</td>\n",
       "      <td>0.00</td>\n",
       "      <td>NaN</td>\n",
       "      <td>NaN</td>\n",
       "      <td>NaN</td>\n",
       "    </tr>\n",
       "    <tr>\n",
       "      <th>1563</th>\n",
       "      <td>Fr</td>\n",
       "      <td>13/2/2015</td>\n",
       "      <td>222.20</td>\n",
       "      <td>239.22</td>\n",
       "      <td>221.61</td>\n",
       "      <td>234.25</td>\n",
       "    </tr>\n",
       "    <tr>\n",
       "      <th>1564</th>\n",
       "      <td>Th</td>\n",
       "      <td>12/2/2015</td>\n",
       "      <td>219.39</td>\n",
       "      <td>222.62</td>\n",
       "      <td>218.35</td>\n",
       "      <td>222.20</td>\n",
       "    </tr>\n",
       "    <tr>\n",
       "      <th>1565</th>\n",
       "      <td>We</td>\n",
       "      <td>11/2/2015</td>\n",
       "      <td>219.70</td>\n",
       "      <td>223.28</td>\n",
       "      <td>218.85</td>\n",
       "      <td>219.39</td>\n",
       "    </tr>\n",
       "  </tbody>\n",
       "</table>\n",
       "<p>1566 rows × 6 columns</p>\n",
       "</div>"
      ],
      "text/plain": [
       "     Unnamed: 0       Date      Open      High     Low     Close\n",
       "0            Tu  11/2/2020   9866.28   9892.60  9715.10  9736.08\n",
       "1            Mo  10/2/2020  10097.14  10194.88  9749.77  9866.28\n",
       "2           NaN        NaN       NaN       NaN      NaN      NaN\n",
       "3            Fr   7/2/2020   9737.36   9868.16  9655.23  9744.46\n",
       "4            Th   6/2/2020   9687.28   9854.47  9530.87  9737.36\n",
       "...         ...        ...       ...       ...      ...      ...\n",
       "1561         Mo  16/2/2015    244.18    244.98   227.38   237.01\n",
       "1562        NaN        NaN      0.00       NaN      NaN      NaN\n",
       "1563         Fr  13/2/2015    222.20    239.22   221.61   234.25\n",
       "1564         Th  12/2/2015    219.39    222.62   218.35   222.20\n",
       "1565         We  11/2/2015    219.70    223.28   218.85   219.39\n",
       "\n",
       "[1566 rows x 6 columns]"
      ]
     },
     "execution_count": 5,
     "metadata": {},
     "output_type": "execute_result"
    }
   ],
   "source": [
    "df"
   ]
  },
  {
   "cell_type": "code",
   "execution_count": null,
   "metadata": {},
   "outputs": [],
   "source": []
  }
 ],
 "metadata": {
  "kernelspec": {
   "display_name": "Python 3",
   "language": "python",
   "name": "python3"
  },
  "language_info": {
   "codemirror_mode": {
    "name": "ipython",
    "version": 3
   },
   "file_extension": ".py",
   "mimetype": "text/x-python",
   "name": "python",
   "nbconvert_exporter": "python",
   "pygments_lexer": "ipython3",
   "version": "3.7.5"
  },
  "toc": {
   "base_numbering": 1,
   "nav_menu": {},
   "number_sections": true,
   "sideBar": true,
   "skip_h1_title": false,
   "title_cell": "Table of Contents",
   "title_sidebar": "Contents",
   "toc_cell": false,
   "toc_position": {},
   "toc_section_display": true,
   "toc_window_display": false
  }
 },
 "nbformat": 4,
 "nbformat_minor": 2
}
